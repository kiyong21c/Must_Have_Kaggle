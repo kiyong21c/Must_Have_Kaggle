{
  "cells": [
    {
      "cell_type": "markdown",
      "metadata": {
        "id": "view-in-github",
        "colab_type": "text"
      },
      "source": [
        "<a href=\"https://colab.research.google.com/github/kiyong21c/Must_Have_Kaggle/blob/main/20221025_porto_driver_EarlyStopping_OOF.ipynb\" target=\"_parent\"><img src=\"https://colab.research.google.com/assets/colab-badge.svg\" alt=\"Open In Colab\"/></a>"
      ]
    },
    {
      "cell_type": "code",
      "source": [
        "from google.colab import drive\n",
        "drive.mount('/content/drive')"
      ],
      "metadata": {
        "id": "0u1NB_7lvAwc",
        "outputId": "d09a568e-4c54-42d6-dcde-575c32a4c871",
        "colab": {
          "base_uri": "https://localhost:8080/"
        }
      },
      "execution_count": 3,
      "outputs": [
        {
          "output_type": "stream",
          "name": "stdout",
          "text": [
            "Mounted at /content/drive\n"
          ]
        }
      ]
    },
    {
      "cell_type": "code",
      "source": [
        "# 조기종료 클래스 구현\n",
        "\n",
        "class EarlyStopping:\n",
        "    def __init__(self, patience=5):\n",
        "        self.loss = np.inf  # 무한대값 설정\n",
        "        self.patience = 0   # 초기화\n",
        "        self.patience_limit = patience\n",
        "        \n",
        "    def step(self, loss):\n",
        "        if self.loss > loss:    # 손실값이 계속 줄어드는 경우 : 무한대 값 > 손실값1 → 손실값1 > 손실값2\n",
        "            self.loss = loss    # 손실값 갱신 : 무한대 값 → 손실값1 → 손실값2 → ... 계속 갱신\n",
        "            self.patience = 0   # 손실값이 계속 줄어드는 경우 → 0\n",
        "        else:\n",
        "            self.patience += 1  # 손실값이 같거나 커지는 경우 += 1\n",
        "    \n",
        "    def is_stop(self):\n",
        "        return self.patience >= self.patience_limit # True or False 반환"
      ],
      "metadata": {
        "id": "roR7ASzAunoU"
      },
      "execution_count": null,
      "outputs": []
    },
    {
      "cell_type": "code",
      "source": [
        "import pandas as pd\n",
        "\n",
        "data_path = '/content/drive/MyDrive/Colab Notebooks/kaggle/input/porto-seguro-safe-driver-prediction/'\n",
        "\n",
        "train = pd.read_csv(data_path + 'train.csv', index_col='id')\n",
        "test = pd.read_csv(data_path + 'test.csv', index_col='id')\n",
        "submission = pd.read_csv(data_path + 'sample_submission.csv', index_col='id')"
      ],
      "metadata": {
        "id": "MzdK4AR8u_Aa"
      },
      "execution_count": 4,
      "outputs": []
    },
    {
      "cell_type": "code",
      "source": [
        "all_data = pd.concat([train, test], ignore_index=True)\n",
        "all_data = all_data.drop('target', axis=1)"
      ],
      "metadata": {
        "id": "flnNQzYcwdK-"
      },
      "execution_count": 5,
      "outputs": []
    },
    {
      "cell_type": "code",
      "source": [
        "all_features = all_data.columns\n",
        "all_features"
      ],
      "metadata": {
        "id": "IwNNtKhLwloM",
        "outputId": "87f48eff-1dcf-4868-db9d-261c720dd3ba",
        "colab": {
          "base_uri": "https://localhost:8080/"
        }
      },
      "execution_count": 6,
      "outputs": [
        {
          "output_type": "execute_result",
          "data": {
            "text/plain": [
              "Index(['ps_ind_01', 'ps_ind_02_cat', 'ps_ind_03', 'ps_ind_04_cat',\n",
              "       'ps_ind_05_cat', 'ps_ind_06_bin', 'ps_ind_07_bin', 'ps_ind_08_bin',\n",
              "       'ps_ind_09_bin', 'ps_ind_10_bin', 'ps_ind_11_bin', 'ps_ind_12_bin',\n",
              "       'ps_ind_13_bin', 'ps_ind_14', 'ps_ind_15', 'ps_ind_16_bin',\n",
              "       'ps_ind_17_bin', 'ps_ind_18_bin', 'ps_reg_01', 'ps_reg_02', 'ps_reg_03',\n",
              "       'ps_car_01_cat', 'ps_car_02_cat', 'ps_car_03_cat', 'ps_car_04_cat',\n",
              "       'ps_car_05_cat', 'ps_car_06_cat', 'ps_car_07_cat', 'ps_car_08_cat',\n",
              "       'ps_car_09_cat', 'ps_car_10_cat', 'ps_car_11_cat', 'ps_car_11',\n",
              "       'ps_car_12', 'ps_car_13', 'ps_car_14', 'ps_car_15', 'ps_calc_01',\n",
              "       'ps_calc_02', 'ps_calc_03', 'ps_calc_04', 'ps_calc_05', 'ps_calc_06',\n",
              "       'ps_calc_07', 'ps_calc_08', 'ps_calc_09', 'ps_calc_10', 'ps_calc_11',\n",
              "       'ps_calc_12', 'ps_calc_13', 'ps_calc_14', 'ps_calc_15_bin',\n",
              "       'ps_calc_16_bin', 'ps_calc_17_bin', 'ps_calc_18_bin', 'ps_calc_19_bin',\n",
              "       'ps_calc_20_bin'],\n",
              "      dtype='object')"
            ]
          },
          "metadata": {},
          "execution_count": 6
        }
      ]
    },
    {
      "cell_type": "code",
      "source": [
        "from sklearn.preprocessing import OneHotEncoder\n",
        "\n",
        "# 명목형 피처 추출\n",
        "cat_features = [feature for feature in all_features if 'cat' in feature] \n",
        "\n",
        "onehot_encoder = OneHotEncoder() # 원-핫 인코더 객체 생성\n",
        "# 인코딩\n",
        "encoded_cat_matrix = onehot_encoder.fit_transform(all_data[cat_features]) \n",
        "\n",
        "encoded_cat_matrix"
      ],
      "metadata": {
        "id": "A3L1Ksx2woJs",
        "outputId": "d46517b3-8170-4cf4-d596-613e6a51fbe4",
        "colab": {
          "base_uri": "https://localhost:8080/"
        }
      },
      "execution_count": 7,
      "outputs": [
        {
          "output_type": "execute_result",
          "data": {
            "text/plain": [
              "<1488028x184 sparse matrix of type '<class 'numpy.float64'>'\n",
              "\twith 20832392 stored elements in Compressed Sparse Row format>"
            ]
          },
          "metadata": {},
          "execution_count": 7
        }
      ]
    },
    {
      "cell_type": "code",
      "source": [
        "# 추가로 제거할 피처\n",
        "drop_features = ['ps_ind_14', 'ps_ind_10_bin', 'ps_ind_11_bin', \n",
        "                 'ps_ind_12_bin', 'ps_ind_13_bin', 'ps_car_14']\n",
        "\n",
        "# '1) 명목형 피처, 2) calc 분류의 피처, 3) 추가 제거할 피처'를 제외한 피처\n",
        "remaining_features = [feature for feature in all_features \n",
        "                      if ('cat' not in feature and \n",
        "                          'calc' not in feature and \n",
        "                          feature not in drop_features)]"
      ],
      "metadata": {
        "id": "rXrnLSQtw06t"
      },
      "execution_count": 8,
      "outputs": []
    },
    {
      "cell_type": "code",
      "source": [
        "from scipy import sparse\n",
        "\n",
        "all_data_sprs = sparse.hstack([sparse.csr_matrix(all_data[remaining_features]),\n",
        "                               encoded_cat_matrix],\n",
        "                              format='csr')"
      ],
      "metadata": {
        "id": "SIIzxH1-w326"
      },
      "execution_count": 9,
      "outputs": []
    },
    {
      "cell_type": "code",
      "source": [
        "num_train = len(train) # 훈련 데이터 개수\n",
        "\n",
        "# 훈련 데이터와 테스트 데이터 나누기\n",
        "X = all_data_sprs[:num_train]\n",
        "X_test = all_data_sprs[num_train:]\n",
        "\n",
        "y = train['target'].values"
      ],
      "metadata": {
        "id": "VpJMmj-xw5jF"
      },
      "execution_count": 10,
      "outputs": []
    },
    {
      "cell_type": "code",
      "source": [
        "import numpy as np\n",
        "\n",
        "def eval_gini(y_true, y_pred):\n",
        "    # 실제값과 예측값의 크기가 같은지 확인 (값이 다르면 오류 발생)\n",
        "    assert y_true.shape == y_pred.shape\n",
        "\n",
        "    n_samples = y_true.shape[0]                      # 데이터 개수\n",
        "    L_mid = np.linspace(1 / n_samples, 1, n_samples) # 대각선 값\n",
        "\n",
        "    # 1) 예측값에 대한 지니계수\n",
        "    pred_order = y_true[y_pred.argsort()] # y_pred 크기순으로 y_true 값 정렬\n",
        "    L_pred = np.cumsum(pred_order) / np.sum(pred_order) # 로렌츠 곡선\n",
        "    G_pred = np.sum(L_mid - L_pred)       # 예측 값에 대한 지니계수\n",
        "\n",
        "    # 2) 예측이 완벽할 때 지니계수\n",
        "    true_order = y_true[y_true.argsort()] # y_true 크기순으로 y_true 값 정렬\n",
        "    L_true = np.cumsum(true_order) / np.sum(true_order) # 로렌츠 곡선\n",
        "    G_true = np.sum(L_mid - L_true)       # 예측이 완벽할 때 지니계수\n",
        "\n",
        "    # 정규화된 지니계수\n",
        "    return G_pred / G_true"
      ],
      "metadata": {
        "id": "wYe73dBtw8Kp"
      },
      "execution_count": 11,
      "outputs": []
    },
    {
      "cell_type": "code",
      "source": [
        "# LightGBM모델에 검증파라미터에 전달할 함수 정의(사용될 검증용 함수를 직접 제작)\n",
        "def gini(preds, dtrain):\n",
        "    labels = dtrain.get_label()\n",
        "    return 'gini', eval_gini(labels, preds), True # 반환값 3가지"
      ],
      "metadata": {
        "id": "2DLM72MDw-S8"
      },
      "execution_count": 12,
      "outputs": []
    },
    {
      "cell_type": "code",
      "source": [
        "from sklearn.model_selection import StratifiedKFold\n",
        "\n",
        "# 층화 K폴드 교차 검증기\n",
        "folds = StratifiedKFold(n_splits=5, shuffle=True, random_state=1991) # 시계열 데이터인경우 shuffle하면 안됨"
      ],
      "metadata": {
        "id": "CdpSOmuoxZj9"
      },
      "execution_count": 13,
      "outputs": []
    },
    {
      "cell_type": "code",
      "source": [
        "# LightGBM의 하이퍼파라미터 설정(네가지만)\n",
        "params = {'objective':'binary',     # 이진분류 문제\n",
        "          'learning_rate':0.01,\n",
        "          'force_row_wise':True,    # 경고 문구 제거\n",
        "          'random_state':0}"
      ],
      "metadata": {
        "id": "RIYVCiaWx1yz"
      },
      "execution_count": 14,
      "outputs": []
    },
    {
      "cell_type": "code",
      "source": [
        "# OOF 방식으로 훈련된 모델로 검증 데이터 타깃값을 예측한 확률을 담을 1차원 배열\n",
        "oof_val_preds = np.zeros(X.shape[0])        # 훈련데이터(검증데이터 제회)로 훈련 → 검증데이터셋(타깃값있음)을 활용한 모델의 성능평가(정규화 지니계수이용)\n",
        "# OOF 방식으로 훈련된 모델로 테스트 데이터 타깃값을 예측한 확률을 담을 1차원 배열\n",
        "oof_test_preds = np.zeros(X_test.shape[0])  # 훈련데이터(검증데이터 제회)로 훈련 → 데스트데이터(타깃값없음)로 타깃값 예측"
      ],
      "metadata": {
        "id": "LvugZVIwyMX5"
      },
      "execution_count": 15,
      "outputs": []
    },
    {
      "cell_type": "markdown",
      "source": [
        " - oof_val_preds 배열 : K폴드로 나눠도 검증데이터가 K번, 즉 모든 훈련데이터가 사용됨\n",
        "  → 훈련 데이터 개수인 X.shape[0]와 같음\n",
        " - oof_test_preds 배열 : 테스트 데이터와 크기가 같음 X_test.shape[0]"
      ],
      "metadata": {
        "id": "6UX5okNj0RG-"
      }
    },
    {
      "cell_type": "code",
      "source": [
        "# OOF예측(각 폴드별도 수행\n"
      ],
      "metadata": {
        "id": "d19GVQpP0M0k"
      },
      "execution_count": null,
      "outputs": []
    }
  ],
  "metadata": {
    "colab": {
      "collapsed_sections": [],
      "name": "Colaboratory에 오신 것을 환영합니다",
      "provenance": [],
      "include_colab_link": true
    },
    "kernelspec": {
      "display_name": "Python 3",
      "name": "python3"
    }
  },
  "nbformat": 4,
  "nbformat_minor": 0
}