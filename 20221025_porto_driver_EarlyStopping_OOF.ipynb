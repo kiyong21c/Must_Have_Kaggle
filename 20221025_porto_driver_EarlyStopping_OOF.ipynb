{
  "cells": [
    {
      "cell_type": "markdown",
      "metadata": {
        "id": "view-in-github",
        "colab_type": "text"
      },
      "source": [
        "<a href=\"https://colab.research.google.com/github/kiyong21c/Must_Have_Kaggle/blob/main/20221025_porto_driver_EarlyStopping_OOF.ipynb\" target=\"_parent\"><img src=\"https://colab.research.google.com/assets/colab-badge.svg\" alt=\"Open In Colab\"/></a>"
      ]
    },
    {
      "cell_type": "code",
      "source": [
        "from google.colab import drive\n",
        "drive.mount('/content/drive')"
      ],
      "metadata": {
        "id": "0u1NB_7lvAwc",
        "outputId": "58d864a5-3169-4db6-d3b5-0320c820383c",
        "colab": {
          "base_uri": "https://localhost:8080/"
        }
      },
      "execution_count": 1,
      "outputs": [
        {
          "output_type": "stream",
          "name": "stdout",
          "text": [
            "Mounted at /content/drive\n"
          ]
        }
      ]
    },
    {
      "cell_type": "code",
      "source": [
        "# 조기종료 클래스 구현\n",
        "\n",
        "class EarlyStopping:\n",
        "    def __init__(self, patience=5):\n",
        "        self.loss = np.inf  # 무한대값 설정\n",
        "        self.patience = 0   # 초기화\n",
        "        self.patience_limit = patience\n",
        "        \n",
        "    def step(self, loss):\n",
        "        if self.loss > loss:    # 손실값이 계속 줄어드는 경우 : 무한대 값 > 손실값1 → 손실값1 > 손실값2\n",
        "            self.loss = loss    # 손실값 갱신 : 무한대 값 → 손실값1 → 손실값2 → ... 계속 갱신\n",
        "            self.patience = 0   # 손실값이 계속 줄어드는 경우 → 0\n",
        "        else:\n",
        "            self.patience += 1  # 손실값이 같거나 커지는 경우 += 1\n",
        "    \n",
        "    def is_stop(self):\n",
        "        return self.patience >= self.patience_limit # True or False 반환"
      ],
      "metadata": {
        "id": "roR7ASzAunoU"
      },
      "execution_count": 2,
      "outputs": []
    },
    {
      "cell_type": "code",
      "source": [
        "import pandas as pd\n",
        "\n",
        "data_path = '/content/drive/MyDrive/Colab Notebooks/kaggle/input/porto-seguro-safe-driver-prediction/'\n",
        "\n",
        "train = pd.read_csv(data_path + 'train.csv', index_col='id')\n",
        "test = pd.read_csv(data_path + 'test.csv', index_col='id')\n",
        "submission = pd.read_csv(data_path + 'sample_submission.csv', index_col='id')"
      ],
      "metadata": {
        "id": "MzdK4AR8u_Aa"
      },
      "execution_count": 3,
      "outputs": []
    },
    {
      "cell_type": "code",
      "source": [
        "all_data = pd.concat([train, test], ignore_index=True)\n",
        "all_data = all_data.drop('target', axis=1)"
      ],
      "metadata": {
        "id": "flnNQzYcwdK-"
      },
      "execution_count": 4,
      "outputs": []
    },
    {
      "cell_type": "code",
      "source": [
        "all_features = all_data.columns\n",
        "all_features"
      ],
      "metadata": {
        "id": "IwNNtKhLwloM",
        "outputId": "ae9e8f48-dc90-43fc-ee6c-ef5580042439",
        "colab": {
          "base_uri": "https://localhost:8080/"
        }
      },
      "execution_count": 5,
      "outputs": [
        {
          "output_type": "execute_result",
          "data": {
            "text/plain": [
              "Index(['ps_ind_01', 'ps_ind_02_cat', 'ps_ind_03', 'ps_ind_04_cat',\n",
              "       'ps_ind_05_cat', 'ps_ind_06_bin', 'ps_ind_07_bin', 'ps_ind_08_bin',\n",
              "       'ps_ind_09_bin', 'ps_ind_10_bin', 'ps_ind_11_bin', 'ps_ind_12_bin',\n",
              "       'ps_ind_13_bin', 'ps_ind_14', 'ps_ind_15', 'ps_ind_16_bin',\n",
              "       'ps_ind_17_bin', 'ps_ind_18_bin', 'ps_reg_01', 'ps_reg_02', 'ps_reg_03',\n",
              "       'ps_car_01_cat', 'ps_car_02_cat', 'ps_car_03_cat', 'ps_car_04_cat',\n",
              "       'ps_car_05_cat', 'ps_car_06_cat', 'ps_car_07_cat', 'ps_car_08_cat',\n",
              "       'ps_car_09_cat', 'ps_car_10_cat', 'ps_car_11_cat', 'ps_car_11',\n",
              "       'ps_car_12', 'ps_car_13', 'ps_car_14', 'ps_car_15', 'ps_calc_01',\n",
              "       'ps_calc_02', 'ps_calc_03', 'ps_calc_04', 'ps_calc_05', 'ps_calc_06',\n",
              "       'ps_calc_07', 'ps_calc_08', 'ps_calc_09', 'ps_calc_10', 'ps_calc_11',\n",
              "       'ps_calc_12', 'ps_calc_13', 'ps_calc_14', 'ps_calc_15_bin',\n",
              "       'ps_calc_16_bin', 'ps_calc_17_bin', 'ps_calc_18_bin', 'ps_calc_19_bin',\n",
              "       'ps_calc_20_bin'],\n",
              "      dtype='object')"
            ]
          },
          "metadata": {},
          "execution_count": 5
        }
      ]
    },
    {
      "cell_type": "code",
      "source": [
        "from sklearn.preprocessing import OneHotEncoder\n",
        "\n",
        "# 명목형 피처 추출\n",
        "cat_features = [feature for feature in all_features if 'cat' in feature] \n",
        "\n",
        "onehot_encoder = OneHotEncoder() # 원-핫 인코더 객체 생성\n",
        "# 인코딩\n",
        "encoded_cat_matrix = onehot_encoder.fit_transform(all_data[cat_features]) \n",
        "\n",
        "encoded_cat_matrix"
      ],
      "metadata": {
        "id": "A3L1Ksx2woJs",
        "outputId": "503862cd-90fc-48c0-c03f-515b857159df",
        "colab": {
          "base_uri": "https://localhost:8080/"
        }
      },
      "execution_count": 6,
      "outputs": [
        {
          "output_type": "execute_result",
          "data": {
            "text/plain": [
              "<1488028x184 sparse matrix of type '<class 'numpy.float64'>'\n",
              "\twith 20832392 stored elements in Compressed Sparse Row format>"
            ]
          },
          "metadata": {},
          "execution_count": 6
        }
      ]
    },
    {
      "cell_type": "code",
      "source": [
        "# 추가로 제거할 피처\n",
        "drop_features = ['ps_ind_14', 'ps_ind_10_bin', 'ps_ind_11_bin', \n",
        "                 'ps_ind_12_bin', 'ps_ind_13_bin', 'ps_car_14']\n",
        "\n",
        "# '1) 명목형 피처, 2) calc 분류의 피처, 3) 추가 제거할 피처'를 제외한 피처\n",
        "remaining_features = [feature for feature in all_features \n",
        "                      if ('cat' not in feature and \n",
        "                          'calc' not in feature and \n",
        "                          feature not in drop_features)]"
      ],
      "metadata": {
        "id": "rXrnLSQtw06t"
      },
      "execution_count": 7,
      "outputs": []
    },
    {
      "cell_type": "code",
      "source": [
        "from scipy import sparse\n",
        "\n",
        "all_data_sprs = sparse.hstack([sparse.csr_matrix(all_data[remaining_features]),\n",
        "                               encoded_cat_matrix],\n",
        "                              format='csr')"
      ],
      "metadata": {
        "id": "SIIzxH1-w326"
      },
      "execution_count": 8,
      "outputs": []
    },
    {
      "cell_type": "code",
      "source": [
        "num_train = len(train) # 훈련 데이터 개수\n",
        "\n",
        "# 훈련 데이터와 테스트 데이터 나누기\n",
        "X = all_data_sprs[:num_train]\n",
        "X_test = all_data_sprs[num_train:]\n",
        "\n",
        "y = train['target'].values"
      ],
      "metadata": {
        "id": "VpJMmj-xw5jF"
      },
      "execution_count": 9,
      "outputs": []
    },
    {
      "cell_type": "code",
      "source": [
        "import numpy as np\n",
        "\n",
        "def eval_gini(y_true, y_pred):\n",
        "    # 실제값과 예측값의 크기가 같은지 확인 (값이 다르면 오류 발생)\n",
        "    assert y_true.shape == y_pred.shape\n",
        "\n",
        "    n_samples = y_true.shape[0]                      # 데이터 개수\n",
        "    L_mid = np.linspace(1 / n_samples, 1, n_samples) # 대각선 값\n",
        "\n",
        "    # 1) 예측값에 대한 지니계수\n",
        "    pred_order = y_true[y_pred.argsort()] # y_pred 크기순으로 y_true 값 정렬\n",
        "    L_pred = np.cumsum(pred_order) / np.sum(pred_order) # 로렌츠 곡선\n",
        "    G_pred = np.sum(L_mid - L_pred)       # 예측 값에 대한 지니계수\n",
        "\n",
        "    # 2) 예측이 완벽할 때 지니계수\n",
        "    true_order = y_true[y_true.argsort()] # y_true 크기순으로 y_true 값 정렬\n",
        "    L_true = np.cumsum(true_order) / np.sum(true_order) # 로렌츠 곡선\n",
        "    G_true = np.sum(L_mid - L_true)       # 예측이 완벽할 때 지니계수\n",
        "\n",
        "    # 정규화된 지니계수\n",
        "    return G_pred / G_true"
      ],
      "metadata": {
        "id": "wYe73dBtw8Kp"
      },
      "execution_count": 10,
      "outputs": []
    },
    {
      "cell_type": "code",
      "source": [
        "# LightGBM모델에 검증파라미터에 전달할 함수 정의(사용될 검증용 함수를 직접 제작)\n",
        "def gini(preds, dtrain):\n",
        "    labels = dtrain.get_label()\n",
        "    return 'gini', eval_gini(labels, preds), True # 반환값 3가지"
      ],
      "metadata": {
        "id": "2DLM72MDw-S8"
      },
      "execution_count": 11,
      "outputs": []
    },
    {
      "cell_type": "code",
      "source": [
        "from sklearn.model_selection import StratifiedKFold\n",
        "\n",
        "# 층화 K폴드 교차 검증기\n",
        "folds = StratifiedKFold(n_splits=5, shuffle=True, random_state=1991) # 시계열 데이터인경우 shuffle하면 안됨"
      ],
      "metadata": {
        "id": "CdpSOmuoxZj9"
      },
      "execution_count": 12,
      "outputs": []
    },
    {
      "cell_type": "code",
      "source": [
        "# LightGBM의 하이퍼파라미터 설정(네가지만)\n",
        "params = {'objective':'binary',     # 이진분류 문제\n",
        "          'learning_rate':0.01,\n",
        "          'force_row_wise':True,    # 경고 문구 제거\n",
        "          'random_state':0}"
      ],
      "metadata": {
        "id": "RIYVCiaWx1yz"
      },
      "execution_count": 13,
      "outputs": []
    },
    {
      "cell_type": "code",
      "source": [
        "# OOF 방식으로 훈련된 모델로 검증 데이터 타깃값을 예측한 확률을 담을 1차원 배열\n",
        "oof_val_preds = np.zeros(X.shape[0])        # 훈련데이터(검증데이터 제회)로 훈련 → 검증데이터셋(타깃값있음)을 활용한 모델의 성능평가(정규화 지니계수이용)\n",
        "# OOF 방식으로 훈련된 모델로 테스트 데이터 타깃값을 예측한 확률을 담을 1차원 배열\n",
        "oof_test_preds = np.zeros(X_test.shape[0])  # 훈련데이터(검증데이터 제회)로 훈련 → 데스트데이터(타깃값없음)로 타깃값 예측"
      ],
      "metadata": {
        "id": "LvugZVIwyMX5"
      },
      "execution_count": 14,
      "outputs": []
    },
    {
      "cell_type": "markdown",
      "source": [
        " - oof_val_preds 배열 : K폴드로 나눠도 검증데이터가 K번, 즉 모든 훈련데이터가 사용됨\n",
        "  → 훈련 데이터 개수인 X.shape[0]와 같음\n",
        " - oof_test_preds 배열 : 테스트 데이터와 크기가 같음 X_test.shape[0]"
      ],
      "metadata": {
        "id": "6UX5okNj0RG-"
      }
    },
    {
      "cell_type": "code",
      "source": [
        "# OOF예측(각 폴드별로 LightGBM모델 훈련)\n",
        "\n",
        "%%time\n",
        "import lightgbm as lgb\n",
        "\n",
        "# OOF 방식으로 모델 훈련, 검증, 예측\n",
        "for idx, (train_idx, valid_idx) in enumerate(folds.split(X, y)): # StratifiedKFold().split(X, y) : generator타입, 훈련,검증데이터셋의 인덱스 반환\n",
        "    # 각 폴드를 구분하는 문구 출력\n",
        "    print('#'*40, f'폴드 {idx+1} / 폴드 {folds.n_splits}', '#'*40)  # StratifiedKFold(n_splits=5).n_splits : 폴드 분할 개수 5\n",
        "\n",
        "    # 훈련용 데이터, 검증용 데이터 설정\n",
        "    X_train, y_train = X[train_idx], y[train_idx] \n",
        "    X_valid, y_valid = X[valid_idx], y[valid_idx] \n",
        "\n",
        "    # LightGBM 전용 데이터셋 생성 : lightgbm.Dataset() → 훈련 및 검증용 데이터 사용시(예측용 데이터는 원본사용)\n",
        "    dtrain = lgb.Dataset(X_train, y_train) # LightGBM 전용 훈련 데이터셋\n",
        "    dvalid = lgb.Dataset(X_valid, y_valid) # LightGBM 전용 검증 데이터셋\n",
        "\n",
        "    # LightGBM 모델 훈련\n",
        "    # 모델이 최고성능(=검증용 평가지표반영)을 낸 반복횟수(=조기종료 조건반영)로 예측\n",
        "    lgb_model = lgb.train(params=params,             # 훈련용 하이퍼파라미터(이진분류, 학습률 등 지정)\n",
        "                          train_set=dtrain,          # 전용 훈련 데이터셋\n",
        "                          valid_sets=dvalid,         # 전용 검증 데이터셋, set's' 주의\n",
        "                          num_boost_round=1000,      # 부스팅 반복횟수(최대반복횟수 1000회, 조기종료될 수 있음)\n",
        "                          feval=gini,                # 검증용 평가지표 (자체제작)함수이름 : 3가지 값을 return해야함 → '평가지표이름', '평가점수를 return하는 함수', '평가점수가 높을수록 좋은지(True/False)'\n",
        "                          early_stopping_rounds=100, # 조기종료 조건(100번연속으로 \"검증용 평가지표가\" 최대값을 갱신하지 못할때)\n",
        "                          verbose_eval=100)          # 100번째마다 점수 출력\n",
        "    \n",
        "    # 모델 성능 평가를 위한 검증 데이터 타깃값 예측(예측용 데이터는 lgb.Dataset이 아닌 원본사용)\n",
        "    oof_val_preds[valid_idx] += lgb_model.predict(X_valid) # 최초 0인 초기화된 리스트에 검증데이터를 넣어서 나온 예측값으로 채움\n",
        "    # oof_val_preds 최초 : [0,0,0,...][0,0,0,...][0,0,0,...][0,0,0,...][0,0,0,...] : 훈련데이터 크기와 같음(0으로 채워짐)\n",
        "    # oof_val_preds 1차  : [예측값,..][0,0,0,...][0,0,0,...][0,0,0,...][0,0,0,...] \n",
        "    # oof_val_preds 2차  : [예측값,..][예측값,..][0,0,0,...][0,0,0,...][0,0,0,...] \n",
        "    \n",
        "    # 테스트 데이터를 활용해 OOF 예측(예측용 데이터는 lgb.Dataset이 아닌 원본사용)\n",
        "    oof_test_preds += lgb_model.predict(X_test)/folds.n_splits\n",
        "    # oof_test_preds 최초 : [0,0,0,...] : 테스트데이터 크기와 같음\n",
        "    # oof_test_preds 1차  : [예측값1,.] / 5\n",
        "    # oof_test_preds 2차  : [예측값1,.] / 5 + [예측값2,.] / 5\n",
        "\n",
        "    # 검증데이터 예측 확률에 대한 정규화 지니계수(검증데이터 실제값과, 검증데이터 예측값으로 지니계수확인)\n",
        "    gini_score = eval_gini(y_valid, oof_val_preds[valid_idx]) # for문 속에서 '각 폴드별' 검증데이터를 이용한 지니계수확인\n",
        "    print(f'폴드 {idx+1} 지니계수: {gini_score}\\n')\n",
        "\n",
        "\n"
      ],
      "metadata": {
        "id": "d19GVQpP0M0k",
        "colab": {
          "base_uri": "https://localhost:8080/"
        },
        "outputId": "6d4b5cce-3c67-46d8-f11d-2d7901d77f00"
      },
      "execution_count": 20,
      "outputs": [
        {
          "output_type": "stream",
          "name": "stdout",
          "text": [
            "######################################## 폴드 1 / 폴드 5 ########################################\n",
            "Training until validation scores don't improve for 100 rounds.\n",
            "[100]\tvalid_0's binary_logloss: 0.15336\tvalid_0's gini: 0.261801\n",
            "[200]\tvalid_0's binary_logloss: 0.152428\tvalid_0's gini: 0.275964\n",
            "[300]\tvalid_0's binary_logloss: 0.152018\tvalid_0's gini: 0.282624\n",
            "[400]\tvalid_0's binary_logloss: 0.151798\tvalid_0's gini: 0.286985\n",
            "[500]\tvalid_0's binary_logloss: 0.151716\tvalid_0's gini: 0.288374\n",
            "[600]\tvalid_0's binary_logloss: 0.151677\tvalid_0's gini: 0.288793\n",
            "[700]\tvalid_0's binary_logloss: 0.151671\tvalid_0's gini: 0.288778\n",
            "Early stopping, best iteration is:\n",
            "[646]\tvalid_0's binary_logloss: 0.151673\tvalid_0's gini: 0.288887\n",
            "폴드 1 지니계수: 0.2888871820172969\n",
            "\n",
            "######################################## 폴드 2 / 폴드 5 ########################################\n",
            "Training until validation scores don't improve for 100 rounds.\n",
            "[100]\tvalid_0's binary_logloss: 0.153506\tvalid_0's gini: 0.249477\n",
            "[200]\tvalid_0's binary_logloss: 0.152709\tvalid_0's gini: 0.260875\n",
            "[300]\tvalid_0's binary_logloss: 0.152395\tvalid_0's gini: 0.267264\n",
            "[400]\tvalid_0's binary_logloss: 0.152231\tvalid_0's gini: 0.271464\n",
            "[500]\tvalid_0's binary_logloss: 0.152158\tvalid_0's gini: 0.273253\n",
            "[600]\tvalid_0's binary_logloss: 0.152128\tvalid_0's gini: 0.274075\n",
            "[700]\tvalid_0's binary_logloss: 0.152119\tvalid_0's gini: 0.274381\n",
            "Early stopping, best iteration is:\n",
            "[678]\tvalid_0's binary_logloss: 0.152116\tvalid_0's gini: 0.274516\n",
            "폴드 2 지니계수: 0.27451635104937466\n",
            "\n",
            "######################################## 폴드 3 / 폴드 5 ########################################\n",
            "Training until validation scores don't improve for 100 rounds.\n",
            "[100]\tvalid_0's binary_logloss: 0.15326\tvalid_0's gini: 0.261338\n",
            "[200]\tvalid_0's binary_logloss: 0.152329\tvalid_0's gini: 0.271699\n",
            "[300]\tvalid_0's binary_logloss: 0.151974\tvalid_0's gini: 0.276442\n",
            "[400]\tvalid_0's binary_logloss: 0.151813\tvalid_0's gini: 0.278722\n",
            "[500]\tvalid_0's binary_logloss: 0.151758\tvalid_0's gini: 0.279825\n",
            "[600]\tvalid_0's binary_logloss: 0.151753\tvalid_0's gini: 0.279965\n",
            "Early stopping, best iteration is:\n",
            "[548]\tvalid_0's binary_logloss: 0.151747\tvalid_0's gini: 0.280228\n",
            "폴드 3 지니계수: 0.2802284578966572\n",
            "\n",
            "######################################## 폴드 4 / 폴드 5 ########################################\n",
            "Training until validation scores don't improve for 100 rounds.\n",
            "[100]\tvalid_0's binary_logloss: 0.153399\tvalid_0's gini: 0.250822\n",
            "[200]\tvalid_0's binary_logloss: 0.152546\tvalid_0's gini: 0.263109\n",
            "[300]\tvalid_0's binary_logloss: 0.152255\tvalid_0's gini: 0.266983\n",
            "[400]\tvalid_0's binary_logloss: 0.152111\tvalid_0's gini: 0.270068\n",
            "[500]\tvalid_0's binary_logloss: 0.152075\tvalid_0's gini: 0.270896\n",
            "[600]\tvalid_0's binary_logloss: 0.152074\tvalid_0's gini: 0.270987\n",
            "Early stopping, best iteration is:\n",
            "[579]\tvalid_0's binary_logloss: 0.152067\tvalid_0's gini: 0.271195\n",
            "폴드 4 지니계수: 0.2711951251992087\n",
            "\n",
            "######################################## 폴드 5 / 폴드 5 ########################################\n",
            "Training until validation scores don't improve for 100 rounds.\n",
            "[100]\tvalid_0's binary_logloss: 0.153481\tvalid_0's gini: 0.26208\n",
            "[200]\tvalid_0's binary_logloss: 0.152621\tvalid_0's gini: 0.273864\n",
            "[300]\tvalid_0's binary_logloss: 0.152266\tvalid_0's gini: 0.279955\n",
            "[400]\tvalid_0's binary_logloss: 0.152049\tvalid_0's gini: 0.285368\n",
            "[500]\tvalid_0's binary_logloss: 0.151974\tvalid_0's gini: 0.287701\n",
            "[600]\tvalid_0's binary_logloss: 0.15195\tvalid_0's gini: 0.288286\n",
            "Early stopping, best iteration is:\n",
            "[594]\tvalid_0's binary_logloss: 0.15195\tvalid_0's gini: 0.288331\n",
            "폴드 5 지니계수: 0.28833118931840523\n",
            "\n"
          ]
        }
      ]
    },
    {
      "cell_type": "markdown",
      "source": [
        " - 모델의 성능평가 점수가 2개\n",
        " \n",
        "  > valid_0's binary_logloss: 이진분류할때, LightGBM의 기본평가(default)지표 \t\n",
        "  \n",
        "  > valid_0's gini: 모델훈련할때, feval파라미터에 전달한 gini함수의 계산 값"
      ],
      "metadata": {
        "id": "LPr4GczIHB3b"
      }
    },
    {
      "cell_type": "markdown",
      "source": [
        "### 예측 및 결과 제출\n",
        " - 최종 예측 확률은 oof_test_preds에 담겨있음"
      ],
      "metadata": {
        "id": "YWxTEsxvI1jv"
      }
    },
    {
      "cell_type": "code",
      "source": [
        "submission['target'] = oof_test_preds\n",
        "# submission.to_csv('submission.csv')"
      ],
      "metadata": {
        "id": "-kp2xnG-I8bd"
      },
      "execution_count": 21,
      "outputs": []
    },
    {
      "cell_type": "markdown",
      "source": [
        "![image.png](data:image/png;base64,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)"
      ],
      "metadata": {
        "id": "19d5I_0__Uz-"
      }
    },
    {
      "cell_type": "markdown",
      "source": [
        "![image.png](data:image/png;base64,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)"
      ],
      "metadata": {
        "id": "FOA3gHcV_KYA"
      }
    },
    {
      "cell_type": "code",
      "source": [
        "for train_idx, valid_idx in folds.split(X, y):\n",
        "    print(train_idx, len(train_idx))\n",
        "    print(valid_idx, len(valid_idx))"
      ],
      "metadata": {
        "colab": {
          "base_uri": "https://localhost:8080/"
        },
        "id": "X1bNPXgk34-j",
        "outputId": "32ff829c-df7f-4637-a573-0d07e9860c51"
      },
      "execution_count": 18,
      "outputs": [
        {
          "output_type": "stream",
          "name": "stdout",
          "text": [
            "[     0      1      3 ... 595209 595210 595211] 476169\n",
            "[     2      5     15 ... 595181 595188 595190] 119043\n",
            "[     0      1      2 ... 595207 595209 595211] 476169\n",
            "[     8     10     25 ... 595201 595208 595210] 119043\n",
            "[     0      2      3 ... 595209 595210 595211] 476170\n",
            "[     1      4      9 ... 595200 595204 595206] 119042\n",
            "[     1      2      4 ... 595208 595210 595211] 476170\n",
            "[     0      3      6 ... 595203 595207 595209] 119042\n",
            "[     0      1      2 ... 595208 595209 595210] 476170\n",
            "[    12     14     16 ... 595197 595205 595211] 119042\n"
          ]
        }
      ]
    }
  ],
  "metadata": {
    "colab": {
      "collapsed_sections": [],
      "name": "Colaboratory에 오신 것을 환영합니다",
      "provenance": [],
      "include_colab_link": true
    },
    "kernelspec": {
      "display_name": "Python 3",
      "name": "python3"
    }
  },
  "nbformat": 4,
  "nbformat_minor": 0
}