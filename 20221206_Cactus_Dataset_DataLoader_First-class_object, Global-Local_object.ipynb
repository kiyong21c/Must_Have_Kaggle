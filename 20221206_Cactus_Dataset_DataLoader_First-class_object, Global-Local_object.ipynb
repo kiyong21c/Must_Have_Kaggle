{
  "cells": [
    {
      "cell_type": "markdown",
      "metadata": {
        "id": "view-in-github",
        "colab_type": "text"
      },
      "source": [
        "<a href=\"https://colab.research.google.com/github/kiyong21c/Must_Have_Kaggle/blob/main/20221206_Cactus_Dataset_DataLoader_First-class_object%2C%20Global-Local_object.ipynb\" target=\"_parent\"><img src=\"https://colab.research.google.com/assets/colab-badge.svg\" alt=\"Open In Colab\"/></a>"
      ]
    },
    {
      "cell_type": "code",
      "source": [
        "from google.colab import drive\n",
        "drive.mount('/content/drive')"
      ],
      "metadata": {
        "id": "0u1NB_7lvAwc",
        "outputId": "94ba0a3c-e2d3-4cd8-a961-3e5f720f0dbe",
        "colab": {
          "base_uri": "https://localhost:8080/"
        }
      },
      "execution_count": 1,
      "outputs": [
        {
          "output_type": "stream",
          "name": "stdout",
          "text": [
            "Mounted at /content/drive\n"
          ]
        }
      ]
    },
    {
      "cell_type": "markdown",
      "source": [
        "# 항공 사진 내 선인장 식별\n",
        " - 미션 : 항공사진내 선인장이 있을 확률 예측\n",
        " - 유형 : 이진분류\n",
        " - 평가지표 : ROC AUC\n",
        " - 사용모델 : 기본 CNN"
      ],
      "metadata": {
        "id": "bPePyO-R9-cp"
      }
    },
    {
      "cell_type": "code",
      "source": [
        "import pandas as pd\n",
        "\n",
        "data_path = '/content/drive/MyDrive/Colab Notebooks/kaggle/input/Aerial-Cactus-Identification/'\n",
        "\n",
        "labels = pd.read_csv(data_path + 'train.csv')\n",
        "submission = pd.read_csv(data_path + 'sample_submission.csv')"
      ],
      "metadata": {
        "id": "MzdK4AR8u_Aa"
      },
      "execution_count": 2,
      "outputs": []
    },
    {
      "cell_type": "code",
      "source": [
        "labels.head()"
      ],
      "metadata": {
        "id": "Pt1tgT4A-nOe",
        "outputId": "ad1229f7-f1f0-4898-a359-1bbf44045e67",
        "colab": {
          "base_uri": "https://localhost:8080/",
          "height": 206
        }
      },
      "execution_count": 3,
      "outputs": [
        {
          "output_type": "execute_result",
          "data": {
            "text/plain": [
              "                                     id  has_cactus\n",
              "0  0004be2cfeaba1c0361d39e2b000257b.jpg           1\n",
              "1  000c8a36845c0208e833c79c1bffedd1.jpg           1\n",
              "2  000d1e9a533f62e55c289303b072733d.jpg           1\n",
              "3  0011485b40695e9138e92d0b3fb55128.jpg           1\n",
              "4  0014d7a11e90b62848904c1418fc8cf2.jpg           1"
            ],
            "text/html": [
              "\n",
              "  <div id=\"df-cc7f8066-c662-4b8e-8f13-525ac090d0ec\">\n",
              "    <div class=\"colab-df-container\">\n",
              "      <div>\n",
              "<style scoped>\n",
              "    .dataframe tbody tr th:only-of-type {\n",
              "        vertical-align: middle;\n",
              "    }\n",
              "\n",
              "    .dataframe tbody tr th {\n",
              "        vertical-align: top;\n",
              "    }\n",
              "\n",
              "    .dataframe thead th {\n",
              "        text-align: right;\n",
              "    }\n",
              "</style>\n",
              "<table border=\"1\" class=\"dataframe\">\n",
              "  <thead>\n",
              "    <tr style=\"text-align: right;\">\n",
              "      <th></th>\n",
              "      <th>id</th>\n",
              "      <th>has_cactus</th>\n",
              "    </tr>\n",
              "  </thead>\n",
              "  <tbody>\n",
              "    <tr>\n",
              "      <th>0</th>\n",
              "      <td>0004be2cfeaba1c0361d39e2b000257b.jpg</td>\n",
              "      <td>1</td>\n",
              "    </tr>\n",
              "    <tr>\n",
              "      <th>1</th>\n",
              "      <td>000c8a36845c0208e833c79c1bffedd1.jpg</td>\n",
              "      <td>1</td>\n",
              "    </tr>\n",
              "    <tr>\n",
              "      <th>2</th>\n",
              "      <td>000d1e9a533f62e55c289303b072733d.jpg</td>\n",
              "      <td>1</td>\n",
              "    </tr>\n",
              "    <tr>\n",
              "      <th>3</th>\n",
              "      <td>0011485b40695e9138e92d0b3fb55128.jpg</td>\n",
              "      <td>1</td>\n",
              "    </tr>\n",
              "    <tr>\n",
              "      <th>4</th>\n",
              "      <td>0014d7a11e90b62848904c1418fc8cf2.jpg</td>\n",
              "      <td>1</td>\n",
              "    </tr>\n",
              "  </tbody>\n",
              "</table>\n",
              "</div>\n",
              "      <button class=\"colab-df-convert\" onclick=\"convertToInteractive('df-cc7f8066-c662-4b8e-8f13-525ac090d0ec')\"\n",
              "              title=\"Convert this dataframe to an interactive table.\"\n",
              "              style=\"display:none;\">\n",
              "        \n",
              "  <svg xmlns=\"http://www.w3.org/2000/svg\" height=\"24px\"viewBox=\"0 0 24 24\"\n",
              "       width=\"24px\">\n",
              "    <path d=\"M0 0h24v24H0V0z\" fill=\"none\"/>\n",
              "    <path d=\"M18.56 5.44l.94 2.06.94-2.06 2.06-.94-2.06-.94-.94-2.06-.94 2.06-2.06.94zm-11 1L8.5 8.5l.94-2.06 2.06-.94-2.06-.94L8.5 2.5l-.94 2.06-2.06.94zm10 10l.94 2.06.94-2.06 2.06-.94-2.06-.94-.94-2.06-.94 2.06-2.06.94z\"/><path d=\"M17.41 7.96l-1.37-1.37c-.4-.4-.92-.59-1.43-.59-.52 0-1.04.2-1.43.59L10.3 9.45l-7.72 7.72c-.78.78-.78 2.05 0 2.83L4 21.41c.39.39.9.59 1.41.59.51 0 1.02-.2 1.41-.59l7.78-7.78 2.81-2.81c.8-.78.8-2.07 0-2.86zM5.41 20L4 18.59l7.72-7.72 1.47 1.35L5.41 20z\"/>\n",
              "  </svg>\n",
              "      </button>\n",
              "      \n",
              "  <style>\n",
              "    .colab-df-container {\n",
              "      display:flex;\n",
              "      flex-wrap:wrap;\n",
              "      gap: 12px;\n",
              "    }\n",
              "\n",
              "    .colab-df-convert {\n",
              "      background-color: #E8F0FE;\n",
              "      border: none;\n",
              "      border-radius: 50%;\n",
              "      cursor: pointer;\n",
              "      display: none;\n",
              "      fill: #1967D2;\n",
              "      height: 32px;\n",
              "      padding: 0 0 0 0;\n",
              "      width: 32px;\n",
              "    }\n",
              "\n",
              "    .colab-df-convert:hover {\n",
              "      background-color: #E2EBFA;\n",
              "      box-shadow: 0px 1px 2px rgba(60, 64, 67, 0.3), 0px 1px 3px 1px rgba(60, 64, 67, 0.15);\n",
              "      fill: #174EA6;\n",
              "    }\n",
              "\n",
              "    [theme=dark] .colab-df-convert {\n",
              "      background-color: #3B4455;\n",
              "      fill: #D2E3FC;\n",
              "    }\n",
              "\n",
              "    [theme=dark] .colab-df-convert:hover {\n",
              "      background-color: #434B5C;\n",
              "      box-shadow: 0px 1px 3px 1px rgba(0, 0, 0, 0.15);\n",
              "      filter: drop-shadow(0px 1px 2px rgba(0, 0, 0, 0.3));\n",
              "      fill: #FFFFFF;\n",
              "    }\n",
              "  </style>\n",
              "\n",
              "      <script>\n",
              "        const buttonEl =\n",
              "          document.querySelector('#df-cc7f8066-c662-4b8e-8f13-525ac090d0ec button.colab-df-convert');\n",
              "        buttonEl.style.display =\n",
              "          google.colab.kernel.accessAllowed ? 'block' : 'none';\n",
              "\n",
              "        async function convertToInteractive(key) {\n",
              "          const element = document.querySelector('#df-cc7f8066-c662-4b8e-8f13-525ac090d0ec');\n",
              "          const dataTable =\n",
              "            await google.colab.kernel.invokeFunction('convertToInteractive',\n",
              "                                                     [key], {});\n",
              "          if (!dataTable) return;\n",
              "\n",
              "          const docLinkHtml = 'Like what you see? Visit the ' +\n",
              "            '<a target=\"_blank\" href=https://colab.research.google.com/notebooks/data_table.ipynb>data table notebook</a>'\n",
              "            + ' to learn more about interactive tables.';\n",
              "          element.innerHTML = '';\n",
              "          dataTable['output_type'] = 'display_data';\n",
              "          await google.colab.output.renderOutput(dataTable, element);\n",
              "          const docLink = document.createElement('div');\n",
              "          docLink.innerHTML = docLinkHtml;\n",
              "          element.appendChild(docLink);\n",
              "        }\n",
              "      </script>\n",
              "    </div>\n",
              "  </div>\n",
              "  "
            ]
          },
          "metadata": {},
          "execution_count": 3
        }
      ]
    },
    {
      "cell_type": "code",
      "source": [
        "submission.head()"
      ],
      "metadata": {
        "id": "MDLTEamj-oDx",
        "outputId": "7740c4c1-5102-42bc-db8d-a43586102429",
        "colab": {
          "base_uri": "https://localhost:8080/",
          "height": 206
        }
      },
      "execution_count": 4,
      "outputs": [
        {
          "output_type": "execute_result",
          "data": {
            "text/plain": [
              "                                     id  has_cactus\n",
              "0  000940378805c44108d287872b2f04ce.jpg         0.5\n",
              "1  0017242f54ececa4512b4d7937d1e21e.jpg         0.5\n",
              "2  001ee6d8564003107853118ab87df407.jpg         0.5\n",
              "3  002e175c3c1e060769475f52182583d0.jpg         0.5\n",
              "4  0036e44a7e8f7218e9bc7bf8137e4943.jpg         0.5"
            ],
            "text/html": [
              "\n",
              "  <div id=\"df-ae1547d8-105c-4c41-a7f6-a9a9b31a91f7\">\n",
              "    <div class=\"colab-df-container\">\n",
              "      <div>\n",
              "<style scoped>\n",
              "    .dataframe tbody tr th:only-of-type {\n",
              "        vertical-align: middle;\n",
              "    }\n",
              "\n",
              "    .dataframe tbody tr th {\n",
              "        vertical-align: top;\n",
              "    }\n",
              "\n",
              "    .dataframe thead th {\n",
              "        text-align: right;\n",
              "    }\n",
              "</style>\n",
              "<table border=\"1\" class=\"dataframe\">\n",
              "  <thead>\n",
              "    <tr style=\"text-align: right;\">\n",
              "      <th></th>\n",
              "      <th>id</th>\n",
              "      <th>has_cactus</th>\n",
              "    </tr>\n",
              "  </thead>\n",
              "  <tbody>\n",
              "    <tr>\n",
              "      <th>0</th>\n",
              "      <td>000940378805c44108d287872b2f04ce.jpg</td>\n",
              "      <td>0.5</td>\n",
              "    </tr>\n",
              "    <tr>\n",
              "      <th>1</th>\n",
              "      <td>0017242f54ececa4512b4d7937d1e21e.jpg</td>\n",
              "      <td>0.5</td>\n",
              "    </tr>\n",
              "    <tr>\n",
              "      <th>2</th>\n",
              "      <td>001ee6d8564003107853118ab87df407.jpg</td>\n",
              "      <td>0.5</td>\n",
              "    </tr>\n",
              "    <tr>\n",
              "      <th>3</th>\n",
              "      <td>002e175c3c1e060769475f52182583d0.jpg</td>\n",
              "      <td>0.5</td>\n",
              "    </tr>\n",
              "    <tr>\n",
              "      <th>4</th>\n",
              "      <td>0036e44a7e8f7218e9bc7bf8137e4943.jpg</td>\n",
              "      <td>0.5</td>\n",
              "    </tr>\n",
              "  </tbody>\n",
              "</table>\n",
              "</div>\n",
              "      <button class=\"colab-df-convert\" onclick=\"convertToInteractive('df-ae1547d8-105c-4c41-a7f6-a9a9b31a91f7')\"\n",
              "              title=\"Convert this dataframe to an interactive table.\"\n",
              "              style=\"display:none;\">\n",
              "        \n",
              "  <svg xmlns=\"http://www.w3.org/2000/svg\" height=\"24px\"viewBox=\"0 0 24 24\"\n",
              "       width=\"24px\">\n",
              "    <path d=\"M0 0h24v24H0V0z\" fill=\"none\"/>\n",
              "    <path d=\"M18.56 5.44l.94 2.06.94-2.06 2.06-.94-2.06-.94-.94-2.06-.94 2.06-2.06.94zm-11 1L8.5 8.5l.94-2.06 2.06-.94-2.06-.94L8.5 2.5l-.94 2.06-2.06.94zm10 10l.94 2.06.94-2.06 2.06-.94-2.06-.94-.94-2.06-.94 2.06-2.06.94z\"/><path d=\"M17.41 7.96l-1.37-1.37c-.4-.4-.92-.59-1.43-.59-.52 0-1.04.2-1.43.59L10.3 9.45l-7.72 7.72c-.78.78-.78 2.05 0 2.83L4 21.41c.39.39.9.59 1.41.59.51 0 1.02-.2 1.41-.59l7.78-7.78 2.81-2.81c.8-.78.8-2.07 0-2.86zM5.41 20L4 18.59l7.72-7.72 1.47 1.35L5.41 20z\"/>\n",
              "  </svg>\n",
              "      </button>\n",
              "      \n",
              "  <style>\n",
              "    .colab-df-container {\n",
              "      display:flex;\n",
              "      flex-wrap:wrap;\n",
              "      gap: 12px;\n",
              "    }\n",
              "\n",
              "    .colab-df-convert {\n",
              "      background-color: #E8F0FE;\n",
              "      border: none;\n",
              "      border-radius: 50%;\n",
              "      cursor: pointer;\n",
              "      display: none;\n",
              "      fill: #1967D2;\n",
              "      height: 32px;\n",
              "      padding: 0 0 0 0;\n",
              "      width: 32px;\n",
              "    }\n",
              "\n",
              "    .colab-df-convert:hover {\n",
              "      background-color: #E2EBFA;\n",
              "      box-shadow: 0px 1px 2px rgba(60, 64, 67, 0.3), 0px 1px 3px 1px rgba(60, 64, 67, 0.15);\n",
              "      fill: #174EA6;\n",
              "    }\n",
              "\n",
              "    [theme=dark] .colab-df-convert {\n",
              "      background-color: #3B4455;\n",
              "      fill: #D2E3FC;\n",
              "    }\n",
              "\n",
              "    [theme=dark] .colab-df-convert:hover {\n",
              "      background-color: #434B5C;\n",
              "      box-shadow: 0px 1px 3px 1px rgba(0, 0, 0, 0.15);\n",
              "      filter: drop-shadow(0px 1px 2px rgba(0, 0, 0, 0.3));\n",
              "      fill: #FFFFFF;\n",
              "    }\n",
              "  </style>\n",
              "\n",
              "      <script>\n",
              "        const buttonEl =\n",
              "          document.querySelector('#df-ae1547d8-105c-4c41-a7f6-a9a9b31a91f7 button.colab-df-convert');\n",
              "        buttonEl.style.display =\n",
              "          google.colab.kernel.accessAllowed ? 'block' : 'none';\n",
              "\n",
              "        async function convertToInteractive(key) {\n",
              "          const element = document.querySelector('#df-ae1547d8-105c-4c41-a7f6-a9a9b31a91f7');\n",
              "          const dataTable =\n",
              "            await google.colab.kernel.invokeFunction('convertToInteractive',\n",
              "                                                     [key], {});\n",
              "          if (!dataTable) return;\n",
              "\n",
              "          const docLinkHtml = 'Like what you see? Visit the ' +\n",
              "            '<a target=\"_blank\" href=https://colab.research.google.com/notebooks/data_table.ipynb>data table notebook</a>'\n",
              "            + ' to learn more about interactive tables.';\n",
              "          element.innerHTML = '';\n",
              "          dataTable['output_type'] = 'display_data';\n",
              "          await google.colab.output.renderOutput(dataTable, element);\n",
              "          const docLink = document.createElement('div');\n",
              "          docLink.innerHTML = docLinkHtml;\n",
              "          element.appendChild(docLink);\n",
              "        }\n",
              "      </script>\n",
              "    </div>\n",
              "  </div>\n",
              "  "
            ]
          },
          "metadata": {},
          "execution_count": 4
        }
      ]
    },
    {
      "cell_type": "markdown",
      "source": [
        "### 데이터 시각화\n",
        " - 훈련데이터에 선인장이 있고(1), 없고(0) 비율 및 편차 확인"
      ],
      "metadata": {
        "id": "HTC0vhbv-4IY"
      }
    },
    {
      "cell_type": "markdown",
      "source": [
        "#### 타깃값 분포"
      ],
      "metadata": {
        "id": "51HRuUPR-2k1"
      }
    },
    {
      "cell_type": "code",
      "source": [
        "import matplotlib.pyplot as plt\n",
        "import os\n",
        "print(os.getcwd()) # /content\n",
        "os.chdir('/content/drive/MyDrive/Colab Notebooks') # Colab Notebooks 폴더 넣어놓은 자체제작 MatplotlibKor 라이브러리 사용하기 위함\n",
        "from MatplotlibToKor import * # \n",
        "print(os.getcwd()) # /content/drive/MyDrive/Colab Notebooks"
      ],
      "metadata": {
        "id": "CVWkY1VU_GvP",
        "outputId": "7232e065-81c8-4730-a448-da4eb9e1d575",
        "colab": {
          "base_uri": "https://localhost:8080/"
        }
      },
      "execution_count": 5,
      "outputs": [
        {
          "output_type": "stream",
          "name": "stdout",
          "text": [
            "/content\n",
            "/content/drive/MyDrive/Colab Notebooks\n"
          ]
        }
      ]
    },
    {
      "cell_type": "code",
      "source": [
        "plt.figure(figsize=(5, 5)) # State-based\n",
        "label = ['Has cactus', 'Hasn\\t cactus'] # 타깃값 레이블\n",
        "plt.pie(labels['has_cactus'].value_counts(), labels=label, autopct='%.1f%%'); # Series.value_counts() : idx에 unique값, value에 각 unique의 개수"
      ],
      "metadata": {
        "id": "JJ21HPOB_aBd",
        "outputId": "4d09cb37-4e21-44a5-f859-3f71962f6b8a",
        "colab": {
          "base_uri": "https://localhost:8080/",
          "height": 376
        }
      },
      "execution_count": 6,
      "outputs": [
        {
          "output_type": "stream",
          "name": "stderr",
          "text": [
            "/usr/local/lib/python3.8/dist-packages/matplotlib/backends/backend_agg.py:214: RuntimeWarning: Glyph 9 missing from current font.\n",
            "  font.set_text(s, 0.0, flags=flags)\n",
            "/usr/local/lib/python3.8/dist-packages/matplotlib/backends/backend_agg.py:183: RuntimeWarning: Glyph 9 missing from current font.\n",
            "  font.set_text(s, 0, flags=flags)\n"
          ]
        },
        {
          "output_type": "display_data",
          "data": {
            "text/plain": [
              "<Figure size 360x360 with 1 Axes>"
            ],
            "image/png": "[encoded data removed]"
          },
          "metadata": {}
        }
      ]
    },
    {
      "cell_type": "markdown",
      "source": [
        "#### 이미지 출력\n",
        " - zipfile 모듈의 Zipfile 클래스 "
      ],
      "metadata": {
        "id": "vYHNo-zZEEXy"
      }
    },
    {
      "cell_type": "code",
      "source": [
        "# 최초 한번만 실행하고 주석 처리(이미 압축푼 파일이 있으므로)\n",
        "# from zipfile import ZipFile\n",
        "\n",
        "# # 훈련 이미지 데이터 압축 풀기\n",
        "# with ZipFile(data_path + 'train.zip') as zipper:\n",
        "#     zipper.extractall()\n",
        "\n",
        "# # 테스트 이미지 데이터 압축 풀기\n",
        "# with ZipFile(data_path + 'test.zip') as zipper:\n",
        "#     zipper.extractall()"
      ],
      "metadata": {
        "id": "2umL8EppgtWr"
      },
      "execution_count": null,
      "outputs": []
    },
    {
      "cell_type": "code",
      "source": [
        "import os\n",
        "\n",
        "num_train = len(os.listdir('train/'))\n",
        "num_test = len(os.listdir('test/'))\n",
        "\n",
        "print(f'훈련 데이터 개수: {num_train}')\n",
        "print(f'테스트 데이터 개수: {num_test}')"
      ],
      "metadata": {
        "id": "f-Jl4rzqm8Q_",
        "outputId": "a316198c-dadb-492e-a620-9ab4b5028053",
        "colab": {
          "base_uri": "https://localhost:8080/"
        }
      },
      "execution_count": 8,
      "outputs": [
        {
          "output_type": "stream",
          "name": "stdout",
          "text": [
            "훈련 데이터 개수: 17500\n",
            "테스트 데이터 개수: 4000\n"
          ]
        }
      ]
    },
    {
      "cell_type": "code",
      "source": [
        "import matplotlib.gridspec as gridspec\n",
        "import cv2 # 이미지 파일을 읽기 위해\n",
        "\n",
        "plt.figure(figsize=(15, 6)) # State-based\n",
        "grid = gridspec.GridSpec(2, 6) # 그리드스펙 객체 생성\n",
        "\n",
        "# 선인장을 포함하는 이미지 파일명 마지막 12개\n",
        "last_has_cactus_img_name = labels[labels['has_cactus'] == 1]['id'][-12:]\n",
        "# last_has_cactus_img_name = labels.loc[labels['has_cactus'] == 1, 'id'][-12:]\n",
        "\n",
        "# 이미지 출력\n",
        "for idx, img_name in enumerate(last_has_cactus_img_name):\n",
        "    img_path = 'train/' + img_name # 이미지 파일 경로\n",
        "    image = cv2.imread(img_path)   # 이미지 파일 읽기(cv2는 BGR형식)\n",
        "    image = cv2.cvtColor(image, cv2.COLOR_BGR2RGB) # 이미지 채널 보정(BGR → RGB)\n",
        "    ax = plt.subplot(grid[idx]) # State-based로 시작해서 Object-oriented 방식으로 변경\n",
        "    # ax = fig.add_subplot()    # fig = plt.figure() 했다면 이런식으로 축 추가\n",
        "    ax.imshow(image) # for문 돌면서 축을 하나씩 출력(plt.imshow()가 아님 주의)"
      ],
      "metadata": {
        "id": "6NI9Gq1on3NM",
        "outputId": "77bce8d3-2bcd-4fd6-e810-e6b19a5ca809",
        "colab": {
          "base_uri": "https://localhost:8080/",
          "height": 348
        }
      },
      "execution_count": 9,
      "outputs": [
        {
          "output_type": "display_data",
          "data": {
            "text/plain": [
              "<Figure size 1080x432 with 12 Axes>"
            ],
            "image/png": "[encoded data removed]"
          },
          "metadata": {
            "needs_background": "light"
          }
        }
      ]
    },
    {
      "cell_type": "code",
      "source": [
        "import matplotlib.gridspec as gridspec\n",
        "import cv2 # 이미지 파일을 읽기 위해\n",
        "\n",
        "plt.figure(figsize=(15, 6)) # State-based\n",
        "grid = gridspec.GridSpec(2, 6) # 그리드스펙 객체 생성\n",
        "\n",
        "# 선인장을 포함하지 않는 이미지 파일명 마지막 12개\n",
        "last_hasnt_cactus_img_name = labels[labels['has_cactus'] == 0]['id'][-12:]\n",
        "# last_hasnt_cactus_img_name = labels.loc[labels['has_cactus'] == 0, 'id'][-12:]\n",
        "\n",
        "# 이미지 출력\n",
        "for idx, img_name in enumerate(last_hasnt_cactus_img_name):\n",
        "    img_path = 'train/' + img_name # 이미지 파일 경로\n",
        "    image = cv2.imread(img_path)   # 이미지 파일 읽기(cv2는 BGR형식)\n",
        "    image = cv2.cvtColor(image, cv2.COLOR_BGR2RGB) # 이미지 채널 보정(BGR → RGB)\n",
        "    ax = plt.subplot(grid[idx]) # State-based로 시작해서 Object-oriented 방식으로 변경\n",
        "    # ax = fig.add_subplot()    # fig = plt.figure() 했다면 이런식으로 축 추가\n",
        "    ax.imshow(image) # for문 돌면서 축을 하나씩 출력(plt.imshow()가 아님 주의)"
      ],
      "metadata": {
        "id": "r5GY_CRjsBSq",
        "outputId": "346ef342-a92e-4de4-c724-3827338a7a54",
        "colab": {
          "base_uri": "https://localhost:8080/",
          "height": 348
        }
      },
      "execution_count": 10,
      "outputs": [
        {
          "output_type": "display_data",
          "data": {
            "text/plain": [
              "<Figure size 1080x432 with 12 Axes>"
            ],
            "image/png": "[encoded data removed]"
          },
          "metadata": {
            "needs_background": "light"
          }
        }
      ]
    },
    {
      "cell_type": "code",
      "source": [
        "image.shape"
      ],
      "metadata": {
        "id": "ZTYwjI5SuCVo",
        "outputId": "aad78ce4-9248-43eb-8afd-1dc2e5c87c54",
        "colab": {
          "base_uri": "https://localhost:8080/"
        }
      },
      "execution_count": 11,
      "outputs": [
        {
          "output_type": "execute_result",
          "data": {
            "text/plain": [
              "(32, 32, 3)"
            ]
          },
          "metadata": {},
          "execution_count": 11
        }
      ]
    },
    {
      "cell_type": "markdown",
      "source": [
        " - 32x32 의 낮은 해상도의 컬러(3채널) 이미지"
      ],
      "metadata": {
        "id": "cqhk-QKduWX0"
      }
    },
    {
      "cell_type": "markdown",
      "source": [
        "### 시드값 고정 및 GPU 장비 설정\n",
        " - 다시 실행해도 같은 결과를 얻기 위함\n",
        " - 머신러닝 훈련시 random_state와 같은 역할"
      ],
      "metadata": {
        "id": "5_EGVD24xF8I"
      }
    },
    {
      "cell_type": "code",
      "source": [
        "# 아래 임포트한 패키지 및 seed 함수를 라이브러리로 저장(SeedFix폴더의 seedfix파일의 seed함수)\n",
        "import torch\n",
        "import random\n",
        "import numpy as np\n",
        "import os\n",
        "\n",
        "# 시드값 고정\n",
        "def seed(seed=50):\n",
        "    os.environ['PYTHONHASHSEED'] = str(seed)\n",
        "    random.seed(seed)               # 파이썬 난수 생성기 시드 고정\n",
        "    np.random.seed(seed)            # 넘파이 난수 생성기 시드 고정\n",
        "    torch.manual_seed(seed)         # 파이토치 난수 생성기 시드 고정(CPU 사용 시)\n",
        "    torch.cuda.manual_seed(seed)    # 파이토치 난수 생성기 시드 고정(GPU 사용 시)\n",
        "    torch.cuda.manual_seed_all(seed)# 파이토치 난수 생성기 시드 고정(멀티GPU 사용 시)\n",
        "    torch.backends.cudnn.deterministic = True # 확정적 연산 사용\n",
        "    torch.backends.cudnn.benchmark = False    # 벤치마크 기능 해제\n",
        "    torch.backends.cudnn.enabled = False      # cudnn 사용 해제"
      ],
      "metadata": {
        "id": "WWLGp9xEuUpV"
      },
      "execution_count": 12,
      "outputs": []
    },
    {
      "cell_type": "code",
      "source": [
        "from SeedFix.seedfix import seed\n",
        "seed()"
      ],
      "metadata": {
        "id": "j9xnKKfhzyQ4"
      },
      "execution_count": 29,
      "outputs": []
    },
    {
      "cell_type": "markdown",
      "source": [
        "#### GPU 장비 설정"
      ],
      "metadata": {
        "id": "lX_PnkSx0M0T"
      }
    },
    {
      "cell_type": "code",
      "source": [
        "# 조건문 \n",
        "if torch.cuda.is_available():\n",
        "    device = torch.device('cuda')\n",
        "else:\n",
        "    device = torch.device('cpu')"
      ],
      "metadata": {
        "id": "pT3sLHwN0L41"
      },
      "execution_count": 14,
      "outputs": []
    },
    {
      "cell_type": "code",
      "source": [
        "# 한줄 조건문\n",
        "device = torch.device('cuda' if torch.cuda.is_available() else 'cpu') # 코랩 환경 설정이 되어있는상태여야함"
      ],
      "metadata": {
        "id": "rQNp7q6B0ch-"
      },
      "execution_count": 15,
      "outputs": []
    },
    {
      "cell_type": "markdown",
      "source": [
        "![image.png](data:image/png;base64,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)"
      ],
      "metadata": {
        "id": "Eg6Xu4cS41i8"
      }
    },
    {
      "cell_type": "markdown",
      "source": [
        "#### 훈련 데이터, 검증 데이터 분리\n"
      ],
      "metadata": {
        "id": "KZYHZs945CaY"
      }
    },
    {
      "cell_type": "code",
      "source": [
        "from sklearn.model_selection import train_test_split\n",
        "\n",
        "# 훈련/검증 데이터 분리\n",
        "train, valid = train_test_split(labels,\n",
        "                                test_size=0.1,                  # 훈련데이터90%, 검증데이터10%\n",
        "                                stratify=labels['has_cactus'],  # 동일한 타깃값 비율을 갖도록 split \n",
        "                                random_state=50)"
      ],
      "metadata": {
        "id": "bbQvl-AV5GFt"
      },
      "execution_count": 16,
      "outputs": []
    },
    {
      "cell_type": "code",
      "source": [
        "print('훈련 데이터 개수 :', len(train))\n",
        "print('검증 데이터 개수 :', len(valid))"
      ],
      "metadata": {
        "id": "JcHdmKL85QzY",
        "outputId": "c3c6aa61-4daf-4d9c-f14d-f677a86d39eb",
        "colab": {
          "base_uri": "https://localhost:8080/"
        }
      },
      "execution_count": 17,
      "outputs": [
        {
          "output_type": "stream",
          "name": "stdout",
          "text": [
            "훈련 데이터 개수 : 15750\n",
            "검증 데이터 개수 : 1750\n"
          ]
        }
      ]
    },
    {
      "cell_type": "markdown",
      "source": [
        "#### 데이터셋 클래스 정의\n",
        " - 파이토치로 신경망 모델을 구축하기 위함"
      ],
      "metadata": {
        "id": "Azn7as455uCE"
      }
    },
    {
      "cell_type": "code",
      "source": [
        "import cv2\n",
        "from torch.utils.data import Dataset # 추상클래스(를 상속받아 특수메서드 오버라이딩)\n",
        "\n",
        "class ImageDataset(Dataset):\n",
        "    # 초기화 메서드(생성자)\n",
        "    def __init__(self, df, img_dir='./', transform=None):\n",
        "        super().__init__()  # 부모(추상)클래스인 Dataset의 생성자 호출\n",
        "\n",
        "        # 전달받은 인수들 저장\n",
        "        self.df = df\n",
        "        self.img_dir = img_dir\n",
        "        self.transform = transform\n",
        "    \n",
        "    # 데이터셋 크기 반환 메서드\n",
        "    def __len__(self):\n",
        "        return len(self.df)\n",
        "    \n",
        "    # 인덱스(idx)에 해당하는 데이터 및 레이블 반환 메서드\n",
        "    def __getitem__(self):\n",
        "        img_id = self.df.iloc[idx, 0]    # 이미지 ID\n",
        "        img_path = self.img_dir + img_id # 이미지 파일경로\n",
        "        image = cv2.imread(img_path)     # 이미지 파일읽기\n",
        "        image = cv2.cvtColor(image, cv2.COLOR_BGR2RGB) # 이미지 색상보정\n",
        "        label = self.df.iloc[idx, 1]     # 이미지 레이블(타깃값)\n",
        "\n",
        "        if self.transform is not None:\n",
        "            image = self.transform(image) # 이미지 변환기가 있다면 적용\n",
        "        return image, label"
      ],
      "metadata": {
        "id": "_mqZO9Wk5r3c"
      },
      "execution_count": 18,
      "outputs": []
    },
    {
      "cell_type": "markdown",
      "source": [
        "#### 데이터셋 생성\n",
        " - 파이토치 모델로 이미지를 다루려면 이미지 데이터를 텐서 타입으로 변환필요"
      ],
      "metadata": {
        "id": "pyKmeVZP-MAz"
      }
    },
    {
      "cell_type": "code",
      "source": [
        "from torchvision import transforms # 이미지 변환 모듈\n",
        "transform = transforms.ToTensor()\n",
        "# cv2.imread()로 읽어온 이미지(가로X세로X채널) → 파이토치에서 사용하기 위한 이미지(채널X가로X세로)"
      ],
      "metadata": {
        "id": "LUgvidYexuIb"
      },
      "execution_count": 23,
      "outputs": []
    },
    {
      "cell_type": "code",
      "source": [
        "dataset_train = ImageDataset(df=train, img_dir='train/', transform=transform)\n",
        "dataset_valid = ImageDataset(df=valid, img_dir='train/', transform=transform)"
      ],
      "metadata": {
        "id": "oDBBTtg3yPkg"
      },
      "execution_count": 24,
      "outputs": []
    },
    {
      "cell_type": "markdown",
      "source": [
        "#### 파이썬의 특징인 일급객체 이해하기\n",
        " - 1. 함수를 변수에 담아서 변수()로 사용할 수 있다.\n",
        " - 2. 함수1을 함수2의 파라미터에 넣을 수 있다(괄호 없이 사용)\n",
        " - 3. 함수1을 함수2의 리턴값으로 사용할수 있다(괄호 포함 사용)\n",
        "\n",
        "\n",
        "#### 괄호 없이 함수를 사용하는 경우 이해하기\n",
        "  - 1. 함수 뒤에 붙는 괄호는 그 함수를 호출하겠다는 뜻\n",
        "  - 2. 함수는 정의를 한다고 해서 바로 실행되는 것이 아니다. 정의 후에 꼭 불러주는 작업이 있어야 실행됨\n",
        "  - 3. 함수도 하나의 객체이며, 만약 괄호 없이 사용했다면 그저 함수 객체 그 자체로 넘겼다는 뜻\n",
        "\n",
        "[링크 텍스트](https://blog.naver.com/qkdqkd1122/222880930740)\n",
        "\n",
        "  - 4. 사용 예제\n",
        "\n",
        "    ```\n",
        "def str_length(s):\n",
        "        return len(s)\n",
        "max('a', 'abc', 'ab', key=str_length)\n",
        "# str_length('a') → 1\n",
        "# str_length('abc') → 3\n",
        "# str_length('ab') → 2\n",
        "# max(1, 3, 2) → 3 즉, 'abc'가 return됨\n",
        "    ```\n",
        "    ```\n",
        "# str_length함수가 즉시 실행되는 것이 아니라,\n",
        "# max함수 내부에서 순서대로 호출되면서,\n",
        "# 중간결과 값을 저장하며, max함수의 인자로 사용됨\n",
        "    ```\n",
        "\n",
        " [링크 텍스트](https://hashcode.co.kr/questions/7489/python%EC%97%90%EC%84%9C-%EC%96%B8%EC%A0%9C-%EA%B4%84%ED%98%B8%EB%A5%BC-%EC%8D%A8%EC%95%BC-%ED%95%98%EB%82%98%EC%9A%94)"
      ],
      "metadata": {
        "id": "_QJgwnkB0gpT"
      }
    },
    {
      "cell_type": "markdown",
      "source": [
        "#### 데이터 로더 생성\n",
        " - 데이터셋 생성 → 데이터 로더 생성\n",
        " - 지정한 배치크기만큼 데이터를 불러오는 객체"
      ],
      "metadata": {
        "id": "FxJ442yh_h2s"
      }
    },
    {
      "cell_type": "code",
      "source": [
        "from torch.utils.data import DataLoader\n",
        "\n",
        "loader_train = DataLoader(dataset=dataset_train, batch_size=32, shuffle=True) # 한번호출시 32개의 이미지를 불러옴\n",
        "loader_valid = DataLoader(dataset=dataset_valid, batch_size=32, shuffle=False)"
      ],
      "metadata": {
        "id": "Slu96RZa_yj4"
      },
      "execution_count": 25,
      "outputs": []
    },
    {
      "cell_type": "code",
      "source": [
        "from SeedFix.seedfix import *\n",
        "# seed(), seed_work(), g 변수 모두 호출됨"
      ],
      "metadata": {
        "id": "nzsy6UHrIcYc"
      },
      "execution_count": 49,
      "outputs": []
    },
    {
      "cell_type": "markdown",
      "source": [
        "### 모델 생성\n",
        " - 기본적인 합성곱 신경망(CNN) 모델"
      ],
      "metadata": {
        "id": "2rMgSA_CJURT"
      }
    },
    {
      "cell_type": "markdown",
      "source": [
        "![image.png](data:image/png;base64,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)"
      ],
      "metadata": {
        "id": "-hJ54t2LKfiA"
      }
    },
    {
      "cell_type": "code",
      "source": [
        "import torch.nn as nn # 신경망 모듈\n",
        "import torch.nn.functional as F # 신경망 모듈에서 자주사용되는 함수를 모아둔 모듈"
      ],
      "metadata": {
        "id": "tkCT7DmIKcgn"
      },
      "execution_count": 50,
      "outputs": []
    },
    {
      "cell_type": "markdown",
      "source": [
        "#### 전역변수와 지역변수\n",
        " - 1. 지역변수는 전역변수로 나오지 못한다\n",
        "\n",
        "    ```\n",
        "    a = 10\n",
        "    def test(b, c):\n",
        "        a = b + c\n",
        "        return a\n",
        "\n",
        "    print(a) # 10 : 함수내에서 정의된 지역변수 a는 전역으로 나오지 못한다.\n",
        "    ```\n",
        "\n",
        "\n",
        " - 2. 전역변수를 지역변수로 가져와서 수정가능하며, 전역변수에 영향을 준다\n",
        "\n",
        "    ```\n",
        "    a = 10\n",
        "    def test(b, c):\n",
        "        global a    # 전역변수를 지역변수로 가져옴\n",
        "        a = b + c\n",
        "        return a\n",
        "        \n",
        "    print(test(1, 2)) # 3 : 전역변수 a를 지역변수로 가져와서 수정하면 전역에 영향을 준다.\n",
        "    ```"
      ],
      "metadata": {
        "id": "I_Q0HOlbfkM4"
      }
    }
  ],
  "metadata": {
    "colab": {
      "name": "Colaboratory에 오신 것을 환영합니다",
      "provenance": [],
      "include_colab_link": true
    },
    "kernelspec": {
      "display_name": "Python 3",
      "name": "python3"
    }
  },
  "nbformat": 4,
  "nbformat_minor": 0
}